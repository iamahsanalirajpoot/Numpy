{
 "cells": [
  {
   "cell_type": "markdown",
   "id": "2fe6d625",
   "metadata": {},
   "source": [
    "# **Introduction to Numpy Python Library**"
   ]
  },
  {
   "cell_type": "markdown",
   "id": "27a57dd6",
   "metadata": {},
   "source": [
    "Install Numpy Library using pip:"
   ]
  },
  {
   "cell_type": "code",
   "execution_count": null,
   "id": "3f917840",
   "metadata": {},
   "outputs": [
    {
     "name": "stdout",
     "output_type": "stream",
     "text": [
      "Requirement already satisfied: numpy in c:\\users\\hp\\anaconda3\\envs\\learning\\lib\\site-packages (2.1.0)\n"
     ]
    }
   ],
   "source": [
    "# !pip install numpy"
   ]
  },
  {
   "cell_type": "markdown",
   "id": "5f82210b",
   "metadata": {},
   "source": [
    "Import numpy:"
   ]
  },
  {
   "cell_type": "code",
   "execution_count": 8,
   "id": "bba6035d",
   "metadata": {},
   "outputs": [],
   "source": [
    "import numpy as np"
   ]
  },
  {
   "cell_type": "markdown",
   "id": "24162827",
   "metadata": {},
   "source": [
    "## What is an Array?\n",
    "\n",
    "In computer programming, an array is a structure for storing and retrieving data. It allows you to store multiple values of the same data type under a single variable name and access them using an index.\n",
    "\n",
    "In NumPy, an array refers to the `ndarray` object, which is the fundamental data structure provided by the library. It is a homogeneous, multidimensional array of fixed-size items, meaning all elements within the array must be of the same data type."
   ]
  },
  {
   "cell_type": "markdown",
   "id": "2a15b3a2",
   "metadata": {},
   "source": [
    "### 1D array\n",
    "\n",
    "- A one-dimensional (1D) array is a linear data structure that stores a sequence of elements, all of the same data type, in a contiguous block of memory. \n",
    "- Think of it like a single row of boxes, where each box holds a value, and all boxes are placed next to each other. "
   ]
  },
  {
   "cell_type": "markdown",
   "id": "a0b476e3",
   "metadata": {},
   "source": [
    "Creating 1D array:"
   ]
  },
  {
   "cell_type": "code",
   "execution_count": 18,
   "id": "48edc019",
   "metadata": {},
   "outputs": [
    {
     "name": "stdout",
     "output_type": "stream",
     "text": [
      "[1 2 3 4 5 6 7 8]\n",
      "Shape: (8,)\n"
     ]
    }
   ],
   "source": [
    "# create a 1D array\n",
    "array_1d = np.array([1, 2, 3, 4, 5, 6, 7, 8])\n",
    "print(array_1d)\n",
    "print(\"Shape:\", array_1d.shape)"
   ]
  },
  {
   "cell_type": "markdown",
   "id": "1db36d23",
   "metadata": {},
   "source": [
    "### 2D array\n",
    "\n",
    "- A two-dimensional (2D) array is a data structure that organizes elements in a grid-like format, consisting of rows and columns. \n",
    "- You can think of it as a table or a matrix, where each cell can hold a value, and the position of the cell is defined by its row and column indices."
   ]
  },
  {
   "cell_type": "markdown",
   "id": "7e00d082",
   "metadata": {},
   "source": [
    "Creating a 2D array:"
   ]
  },
  {
   "cell_type": "code",
   "execution_count": 17,
   "id": "afb62827",
   "metadata": {},
   "outputs": [
    {
     "name": "stdout",
     "output_type": "stream",
     "text": [
      "[[ 1  2  3  4  5]\n",
      " [ 6  7  8  9 10]\n",
      " [11 12 13 14 15]]\n",
      "Shape: (3, 5)\n"
     ]
    }
   ],
   "source": [
    "# create 2D array\n",
    "array_2d = np.array([[1, 2, 3, 4, 5],\n",
    "                    [6, 7, 8, 9, 10],\n",
    "                    [11, 12, 13, 14, 15]])\n",
    "\n",
    "print(array_2d)\n",
    "print(\"Shape:\", array_2d.shape)"
   ]
  },
  {
   "cell_type": "markdown",
   "id": "dc29a1c9",
   "metadata": {},
   "source": [
    "### 3D array\n",
    "\n",
    "- A three-dimensional (3D) array is a data structure that organizes elements in a cube-like format, consisting of depth, rows, and columns.\n",
    "- You can think of it as a stack of tables or a collection of matrices, where each cell can hold a value, and the position of the cell is defined by its depth, row, and column indices."
   ]
  },
  {
   "cell_type": "markdown",
   "id": "fe1c42db",
   "metadata": {},
   "source": [
    "Creating 3D array:"
   ]
  },
  {
   "cell_type": "code",
   "execution_count": 21,
   "id": "2b88bbde",
   "metadata": {},
   "outputs": [
    {
     "name": "stdout",
     "output_type": "stream",
     "text": [
      "[[[ 1  2  3]\n",
      "  [ 4  5  6]]\n",
      "\n",
      " [[ 7  8  9]\n",
      "  [10 11 12]]]\n"
     ]
    }
   ],
   "source": [
    "array_3d = np.array([\n",
    "    [[1, 2, 3], [4, 5, 6]],      # First matrix (2x3)\n",
    "    [[7, 8, 9], [10, 11, 12]]    # Second matrix (2x3)\n",
    "])\n",
    "\n",
    "print(array_3d)"
   ]
  },
  {
   "cell_type": "markdown",
   "id": "3285a040",
   "metadata": {},
   "source": [
    "> - 1D array → a list of numbers (a line)\n",
    "> - 2D array → a list of lists (a table / matrix)\n",
    "> - 3D array → a list of 2D arrays (a \"stack\" of tables)"
   ]
  },
  {
   "cell_type": "markdown",
   "id": "25c89ba3",
   "metadata": {},
   "source": [
    "---"
   ]
  },
  {
   "cell_type": "markdown",
   "id": "5a3823b0",
   "metadata": {},
   "source": [
    "## Arrays Filled with Specific Values"
   ]
  },
  {
   "cell_type": "code",
   "execution_count": 43,
   "id": "5f1f242c",
   "metadata": {},
   "outputs": [
    {
     "data": {
      "text/plain": [
       "array([[0., 0., 0.],\n",
       "       [0., 0., 0.]])"
      ]
     },
     "execution_count": 43,
     "metadata": {},
     "output_type": "execute_result"
    }
   ],
   "source": [
    "# Array of zeros\n",
    "arr_zeros = np.zeros((2, 3))   # 2 rows and 3 columns\n",
    "arr_zeros"
   ]
  },
  {
   "cell_type": "code",
   "execution_count": 42,
   "id": "4e5b0842",
   "metadata": {},
   "outputs": [
    {
     "data": {
      "text/plain": [
       "array([[1., 1.],\n",
       "       [1., 1.]])"
      ]
     },
     "execution_count": 42,
     "metadata": {},
     "output_type": "execute_result"
    }
   ],
   "source": [
    "# Array of ones\n",
    "arr_ones = np.ones((2, 2))   # 2 rows and 2 columns\n",
    "arr_ones"
   ]
  },
  {
   "cell_type": "code",
   "execution_count": 41,
   "id": "df453fd8",
   "metadata": {},
   "outputs": [
    {
     "data": {
      "text/plain": [
       "array([[10, 10, 10, 10],\n",
       "       [10, 10, 10, 10],\n",
       "       [10, 10, 10, 10]])"
      ]
     },
     "execution_count": 41,
     "metadata": {},
     "output_type": "execute_result"
    }
   ],
   "source": [
    "# Array filled with a specific value\n",
    "arr_tens = np.full((3, 4), 10)  # 3 x 4 array filled with 10\n",
    "arr_tens"
   ]
  },
  {
   "cell_type": "markdown",
   "id": "d09ee5b9",
   "metadata": {},
   "source": [
    "## Arrays with a Range of Values"
   ]
  },
  {
   "cell_type": "code",
   "execution_count": 40,
   "id": "dea20c66",
   "metadata": {},
   "outputs": [
    {
     "data": {
      "text/plain": [
       "array([0, 2, 4, 6])"
      ]
     },
     "execution_count": 40,
     "metadata": {},
     "output_type": "execute_result"
    }
   ],
   "source": [
    "# Array with evenly spaced values within a range\n",
    "arr_arange = np.arange(0, 8, 2) # start 0, stop 7, step 2\n",
    "arr_arange"
   ]
  },
  {
   "cell_type": "code",
   "execution_count": 44,
   "id": "e02678af",
   "metadata": {},
   "outputs": [
    {
     "data": {
      "text/plain": [
       "array([0.  , 0.25, 0.5 , 0.75, 1.  ])"
      ]
     },
     "execution_count": 44,
     "metadata": {},
     "output_type": "execute_result"
    }
   ],
   "source": [
    "# Array with a specified number of evenly spaced values over an interval\n",
    "arr_linspace = np.linspace(0, 1, 5)  # 5 values between 0 and 1 (inclusive)\n",
    "arr_linspace"
   ]
  },
  {
   "cell_type": "markdown",
   "id": "bbcd935e",
   "metadata": {},
   "source": [
    "## Empty or Identity Arrays"
   ]
  },
  {
   "cell_type": "code",
   "execution_count": 50,
   "id": "2eadf499",
   "metadata": {},
   "outputs": [
    {
     "data": {
      "text/plain": [
       "array([[15., 15., 15.],\n",
       "       [15., 15., 15.],\n",
       "       [15., 15., 15.]])"
      ]
     },
     "execution_count": 50,
     "metadata": {},
     "output_type": "execute_result"
    }
   ],
   "source": [
    "# Empty array (uninitialized values)\n",
    "arr_empty = np.empty((3, 3))\n",
    "arr_empty"
   ]
  },
  {
   "cell_type": "code",
   "execution_count": 53,
   "id": "fec3f549",
   "metadata": {},
   "outputs": [
    {
     "data": {
      "text/plain": [
       "array([[1., 0., 0.],\n",
       "       [0., 1., 0.],\n",
       "       [0., 0., 1.]])"
      ]
     },
     "execution_count": 53,
     "metadata": {},
     "output_type": "execute_result"
    }
   ],
   "source": [
    "# Identity matrix (for square 2D arrays)\n",
    "arr_identity = np.eye(3)  # 3x3 identity matrix\n",
    "arr_identity"
   ]
  },
  {
   "cell_type": "markdown",
   "id": "f210e63e",
   "metadata": {},
   "source": [
    "## Arrays with Random Values"
   ]
  },
  {
   "cell_type": "code",
   "execution_count": null,
   "id": "f7a95829",
   "metadata": {},
   "outputs": [
    {
     "data": {
      "text/plain": [
       "array([0.44106964, 0.24118644, 0.6195356 , 0.24094638, 0.59428448])"
      ]
     },
     "execution_count": 70,
     "metadata": {},
     "output_type": "execute_result"
    }
   ],
   "source": [
    "# Create a 1-D array of 5 random floats\n",
    "arr_1d_float = np.random.rand(5)\n",
    "arr_1d_float"
   ]
  },
  {
   "cell_type": "code",
   "execution_count": 75,
   "id": "9b5189df",
   "metadata": {},
   "outputs": [
    {
     "data": {
      "text/plain": [
       "array([[0.10123911, 0.8246729 , 0.41038805],\n",
       "       [0.44597513, 0.74187469, 0.72374493]])"
      ]
     },
     "execution_count": 75,
     "metadata": {},
     "output_type": "execute_result"
    }
   ],
   "source": [
    "# Create a 1-D random array of shape 2 x 3\n",
    "arr_2d_float = np.random.rand(2, 3)\n",
    "arr_2d_float"
   ]
  },
  {
   "cell_type": "code",
   "execution_count": 80,
   "id": "e9a2f2d8",
   "metadata": {},
   "outputs": [
    {
     "data": {
      "text/plain": [
       "array([7, 5, 5, 0, 4, 4, 3, 7], dtype=int32)"
      ]
     },
     "execution_count": 80,
     "metadata": {},
     "output_type": "execute_result"
    }
   ],
   "source": [
    "# Create a 1d array of 8 random integers between 0 (inclusive) and 10 (exclusive)\n",
    "arr_1d_int = np.random.randint(0, 10, size=8)\n",
    "arr_1d_int"
   ]
  },
  {
   "cell_type": "markdown",
   "id": "02eda216",
   "metadata": {},
   "source": [
    "---"
   ]
  },
  {
   "cell_type": "markdown",
   "id": "462e16c8",
   "metadata": {},
   "source": [
    "Check data type of an array:"
   ]
  },
  {
   "cell_type": "code",
   "execution_count": null,
   "id": "3cd5d294",
   "metadata": {},
   "outputs": [
    {
     "data": {
      "text/plain": [
       "dtype('int64')"
      ]
     },
     "execution_count": 83,
     "metadata": {},
     "output_type": "execute_result"
    }
   ],
   "source": [
    "arr_a = np.array([[1, 2, 3, 4],\n",
    "                [5, 6, 7, 8]])\n",
    "\n",
    "arr_a.dtype"
   ]
  },
  {
   "cell_type": "code",
   "execution_count": 86,
   "id": "457e86d1",
   "metadata": {},
   "outputs": [
    {
     "data": {
      "text/plain": [
       "dtype('float64')"
      ]
     },
     "execution_count": 86,
     "metadata": {},
     "output_type": "execute_result"
    }
   ],
   "source": [
    "arr_b = np.array([[1.5, 2.1, 3, 4],\n",
    "                [5, 6, 7.9, 8]])\n",
    "\n",
    "arr_b.dtype"
   ]
  },
  {
   "cell_type": "code",
   "execution_count": 92,
   "id": "f9a160d3",
   "metadata": {},
   "outputs": [
    {
     "data": {
      "text/plain": [
       "dtype('<U1')"
      ]
     },
     "execution_count": 92,
     "metadata": {},
     "output_type": "execute_result"
    }
   ],
   "source": [
    "arr_c = np.array([['a', 'b', 'c'],\n",
    "                ['d', 'e', 'f']])\n",
    "\n",
    "arr_c.dtype"
   ]
  },
  {
   "cell_type": "markdown",
   "id": "efacfd25",
   "metadata": {},
   "source": [
    "Dimension, length shape and size of an array:"
   ]
  },
  {
   "cell_type": "code",
   "execution_count": 93,
   "id": "86781a31",
   "metadata": {},
   "outputs": [],
   "source": [
    "# initializing 1D, 2D and 3D arrays\n",
    "\n",
    "# 1D array\n",
    "array_1d = np.array([1, 2, 3, 4, 5, 6, 7, 8])\n",
    "\n",
    "# 2D array\n",
    "array_2d = np.array([[1, 2, 3, 4, 5],\n",
    "                    [6, 7, 8, 9, 10],\n",
    "                    [11, 12, 13, 14, 15]])\n",
    "# 3D array\n",
    "array_3d = np.array([\n",
    "    [[1, 2, 3], [4, 5, 6]],    \n",
    "    [[7, 8, 9], [10, 11, 12]]    \n",
    "])"
   ]
  },
  {
   "cell_type": "code",
   "execution_count": 95,
   "id": "0315af67",
   "metadata": {},
   "outputs": [
    {
     "name": "stdout",
     "output_type": "stream",
     "text": [
      "1\n",
      "2\n",
      "3\n"
     ]
    }
   ],
   "source": [
    "# check for array dimension\n",
    "print(array_1d.ndim)\n",
    "print(array_2d.ndim)\n",
    "print(array_3d.ndim)"
   ]
  },
  {
   "cell_type": "code",
   "execution_count": 97,
   "id": "549f7524",
   "metadata": {},
   "outputs": [
    {
     "name": "stdout",
     "output_type": "stream",
     "text": [
      "8\n",
      "3\n",
      "2\n"
     ]
    }
   ],
   "source": [
    "# length of arr\n",
    "print(len(array_1d))\n",
    "print(len(array_2d))\n",
    "print(len(array_3d))"
   ]
  },
  {
   "cell_type": "code",
   "execution_count": 98,
   "id": "a5eeb9ad",
   "metadata": {},
   "outputs": [
    {
     "name": "stdout",
     "output_type": "stream",
     "text": [
      "(8,)\n",
      "(3, 5)\n",
      "(2, 2, 3)\n"
     ]
    }
   ],
   "source": [
    "# shape of arr\n",
    "print(array_1d.shape)\n",
    "print(array_2d.shape)\n",
    "print(array_3d.shape)"
   ]
  },
  {
   "cell_type": "code",
   "execution_count": 101,
   "id": "49ac0797",
   "metadata": {},
   "outputs": [
    {
     "data": {
      "text/plain": [
       "15"
      ]
     },
     "execution_count": 101,
     "metadata": {},
     "output_type": "execute_result"
    }
   ],
   "source": [
    "# array size (total number of elements)\n",
    "array_2d.size"
   ]
  },
  {
   "cell_type": "markdown",
   "id": "faf6b621",
   "metadata": {},
   "source": [
    "## Some Basic Operations"
   ]
  },
  {
   "cell_type": "code",
   "execution_count": 111,
   "id": "c1918abc",
   "metadata": {},
   "outputs": [],
   "source": [
    "# initializing arrays\n",
    "\n",
    "a = np.array([12, 14, 16, 18])\n",
    "b = np.array([[1, 3, 5, 7], [9, 11, 13, 14]])"
   ]
  },
  {
   "cell_type": "code",
   "execution_count": 112,
   "id": "f63d76c0",
   "metadata": {},
   "outputs": [
    {
     "data": {
      "text/plain": [
       "array([12, 14, 16, 18])"
      ]
     },
     "execution_count": 112,
     "metadata": {},
     "output_type": "execute_result"
    }
   ],
   "source": [
    "a"
   ]
  },
  {
   "cell_type": "code",
   "execution_count": 113,
   "id": "03a1844c",
   "metadata": {},
   "outputs": [
    {
     "data": {
      "text/plain": [
       "array([[ 1,  3,  5,  7],\n",
       "       [ 9, 11, 13, 14]])"
      ]
     },
     "execution_count": 113,
     "metadata": {},
     "output_type": "execute_result"
    }
   ],
   "source": [
    "b"
   ]
  },
  {
   "cell_type": "markdown",
   "id": "38d3c03a",
   "metadata": {},
   "source": [
    "Array subtraction:"
   ]
  },
  {
   "cell_type": "code",
   "execution_count": 114,
   "id": "bb0dd705",
   "metadata": {},
   "outputs": [
    {
     "data": {
      "text/plain": [
       "array([[11, 11, 11, 11],\n",
       "       [ 3,  3,  3,  4]])"
      ]
     },
     "execution_count": 114,
     "metadata": {},
     "output_type": "execute_result"
    }
   ],
   "source": [
    "# subtraction\n",
    "arr_subtraction = a - b\n",
    "arr_subtraction"
   ]
  },
  {
   "cell_type": "markdown",
   "id": "bb008dd0",
   "metadata": {},
   "source": [
    "Array addition:"
   ]
  },
  {
   "cell_type": "code",
   "execution_count": 115,
   "id": "60604b7a",
   "metadata": {},
   "outputs": [
    {
     "data": {
      "text/plain": [
       "array([[13, 17, 21, 25],\n",
       "       [21, 25, 29, 32]])"
      ]
     },
     "execution_count": 115,
     "metadata": {},
     "output_type": "execute_result"
    }
   ],
   "source": [
    "# addition\n",
    "arr_add = a + b\n",
    "arr_add"
   ]
  },
  {
   "cell_type": "code",
   "execution_count": 116,
   "id": "eee87060",
   "metadata": {},
   "outputs": [
    {
     "data": {
      "text/plain": [
       "array([[13, 17, 21, 25],\n",
       "       [21, 25, 29, 32]])"
      ]
     },
     "execution_count": 116,
     "metadata": {},
     "output_type": "execute_result"
    }
   ],
   "source": [
    "# array ddition using 'np.add()'\n",
    "np.add(a, b)"
   ]
  },
  {
   "cell_type": "markdown",
   "id": "a2d4913e",
   "metadata": {},
   "source": [
    "Array multiplication:"
   ]
  },
  {
   "cell_type": "code",
   "execution_count": 117,
   "id": "19d56407",
   "metadata": {},
   "outputs": [
    {
     "data": {
      "text/plain": [
       "array([[ 12,  42,  80, 126],\n",
       "       [108, 154, 208, 252]])"
      ]
     },
     "execution_count": 117,
     "metadata": {},
     "output_type": "execute_result"
    }
   ],
   "source": [
    "# multiplication\n",
    "array_multiplication = a * b\n",
    "array_multiplication"
   ]
  },
  {
   "cell_type": "markdown",
   "id": "e477e72f",
   "metadata": {},
   "source": [
    "Array division:"
   ]
  },
  {
   "cell_type": "code",
   "execution_count": 118,
   "id": "373bc7c8",
   "metadata": {},
   "outputs": [
    {
     "data": {
      "text/plain": [
       "array([[12.        ,  4.66666667,  3.2       ,  2.57142857],\n",
       "       [ 1.33333333,  1.27272727,  1.23076923,  1.28571429]])"
      ]
     },
     "execution_count": 118,
     "metadata": {},
     "output_type": "execute_result"
    }
   ],
   "source": [
    "# division\n",
    "array_division = a / b\n",
    "array_division"
   ]
  },
  {
   "cell_type": "markdown",
   "id": "ec771558",
   "metadata": {},
   "source": [
    "Taking square of array elements:"
   ]
  },
  {
   "cell_type": "code",
   "execution_count": 119,
   "id": "a3e7e781",
   "metadata": {},
   "outputs": [
    {
     "data": {
      "text/plain": [
       "array([12, 14, 16, 18])"
      ]
     },
     "execution_count": 119,
     "metadata": {},
     "output_type": "execute_result"
    }
   ],
   "source": [
    "a"
   ]
  },
  {
   "cell_type": "code",
   "execution_count": 123,
   "id": "cb126313",
   "metadata": {},
   "outputs": [
    {
     "data": {
      "text/plain": [
       "array([144, 196, 256, 324])"
      ]
     },
     "execution_count": 123,
     "metadata": {},
     "output_type": "execute_result"
    }
   ],
   "source": [
    "# square of each element\n",
    "arr_square = a ** 2\n",
    "arr_square"
   ]
  },
  {
   "cell_type": "code",
   "execution_count": 124,
   "id": "3553212f",
   "metadata": {},
   "outputs": [
    {
     "data": {
      "text/plain": [
       "array([1728, 2744, 4096, 5832])"
      ]
     },
     "execution_count": 124,
     "metadata": {},
     "output_type": "execute_result"
    }
   ],
   "source": [
    "# cube\n",
    "arr_cube = a ** 3\n",
    "arr_cube"
   ]
  },
  {
   "cell_type": "markdown",
   "id": "b431d109",
   "metadata": {},
   "source": [
    "---"
   ]
  }
 ],
 "metadata": {
  "kernelspec": {
   "display_name": "learning",
   "language": "python",
   "name": "python3"
  },
  "language_info": {
   "codemirror_mode": {
    "name": "ipython",
    "version": 3
   },
   "file_extension": ".py",
   "mimetype": "text/x-python",
   "name": "python",
   "nbconvert_exporter": "python",
   "pygments_lexer": "ipython3",
   "version": "3.11.13"
  }
 },
 "nbformat": 4,
 "nbformat_minor": 5
}
