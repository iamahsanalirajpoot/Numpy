{
 "cells": [
  {
   "cell_type": "markdown",
   "id": "ee6220b1",
   "metadata": {},
   "source": [
    "# **Matrices in NumPy**"
   ]
  },
  {
   "cell_type": "code",
   "execution_count": 1,
   "id": "eab37aa8",
   "metadata": {},
   "outputs": [],
   "source": [
    "# importing numpy\n",
    "import numpy as np"
   ]
  },
  {
   "cell_type": "markdown",
   "id": "1214984d",
   "metadata": {},
   "source": [
    "## What are Matrices?\n",
    "\n",
    "Matrices are basically 2-D arrays with rows and columns."
   ]
  },
  {
   "cell_type": "markdown",
   "id": "05ece221",
   "metadata": {},
   "source": [
    "## Creating a Matrix"
   ]
  },
  {
   "cell_type": "markdown",
   "id": "262cd23a",
   "metadata": {},
   "source": [
    "- We can pass list of lists to create a Matrix (2D array) in numpy:"
   ]
  },
  {
   "cell_type": "code",
   "execution_count": 2,
   "id": "49359e82",
   "metadata": {},
   "outputs": [
    {
     "data": {
      "text/plain": [
       "array([[1, 2, 3],\n",
       "       [4, 5, 6]])"
      ]
     },
     "execution_count": 2,
     "metadata": {},
     "output_type": "execute_result"
    }
   ],
   "source": [
    "# creating a 2 x 3 matrix\n",
    "a = np.array([[1, 2, 3], [4, 5, 6]])\n",
    "a"
   ]
  },
  {
   "cell_type": "markdown",
   "id": "eb24d8de",
   "metadata": {},
   "source": [
    "- Creating matrix of bigger size:"
   ]
  },
  {
   "cell_type": "code",
   "execution_count": 3,
   "id": "8460b343",
   "metadata": {},
   "outputs": [
    {
     "data": {
      "text/plain": [
       "array([[  5,  10,  15,  20,  25,  30,  35,  40,  45,  50],\n",
       "       [ 55,  60,  65,  70,  75,  80,  85,  90,  95, 100],\n",
       "       [105, 110, 115, 120, 125, 130, 135, 140, 145, 150],\n",
       "       [155, 160, 165, 170, 175, 180, 185, 190, 195, 200],\n",
       "       [205, 210, 215, 220, 225, 230, 235, 240, 245, 250],\n",
       "       [255, 260, 265, 270, 275, 280, 285, 290, 295, 300],\n",
       "       [305, 310, 315, 320, 325, 330, 335, 340, 345, 350],\n",
       "       [355, 360, 365, 370, 375, 380, 385, 390, 395, 400],\n",
       "       [405, 410, 415, 420, 425, 430, 435, 440, 445, 450],\n",
       "       [455, 460, 465, 470, 475, 480, 485, 490, 495, 500]])"
      ]
     },
     "execution_count": 3,
     "metadata": {},
     "output_type": "execute_result"
    }
   ],
   "source": [
    "b = np.arange(5, 501, 5).reshape(10, 10)\n",
    "b"
   ]
  },
  {
   "cell_type": "markdown",
   "id": "ff5846d8",
   "metadata": {},
   "source": [
    "## Indexing and Slicing a matrix\n",
    "\n",
    "We can index and slice a matrix using row and column indices."
   ]
  },
  {
   "cell_type": "code",
   "execution_count": 4,
   "id": "e83defc3",
   "metadata": {},
   "outputs": [
    {
     "data": {
      "text/plain": [
       "array([[  5,  10,  15,  20,  25,  30,  35,  40,  45,  50],\n",
       "       [ 55,  60,  65,  70,  75,  80,  85,  90,  95, 100],\n",
       "       [105, 110, 115, 120, 125, 130, 135, 140, 145, 150],\n",
       "       [155, 160, 165, 170, 175, 180, 185, 190, 195, 200],\n",
       "       [205, 210, 215, 220, 225, 230, 235, 240, 245, 250],\n",
       "       [255, 260, 265, 270, 275, 280, 285, 290, 295, 300],\n",
       "       [305, 310, 315, 320, 325, 330, 335, 340, 345, 350],\n",
       "       [355, 360, 365, 370, 375, 380, 385, 390, 395, 400],\n",
       "       [405, 410, 415, 420, 425, 430, 435, 440, 445, 450],\n",
       "       [455, 460, 465, 470, 475, 480, 485, 490, 495, 500]])"
      ]
     },
     "execution_count": 4,
     "metadata": {},
     "output_type": "execute_result"
    }
   ],
   "source": [
    "b"
   ]
  },
  {
   "cell_type": "markdown",
   "id": "e19c3139",
   "metadata": {},
   "source": [
    "- Accessing a Single Element:"
   ]
  },
  {
   "cell_type": "code",
   "execution_count": 5,
   "id": "664e35c0",
   "metadata": {},
   "outputs": [
    {
     "name": "stdout",
     "output_type": "stream",
     "text": [
      "170\n",
      "125\n",
      "475\n"
     ]
    }
   ],
   "source": [
    "# accessing element by row, col index\n",
    "print(b[3,3])  # 170\n",
    "print(b[2,4])  # 125\n",
    "print(b[9,4])  # 475"
   ]
  },
  {
   "cell_type": "markdown",
   "id": "b23098e5",
   "metadata": {},
   "source": [
    "- Accessing Rows"
   ]
  },
  {
   "cell_type": "code",
   "execution_count": 6,
   "id": "ec23b0c3",
   "metadata": {},
   "outputs": [
    {
     "name": "stdout",
     "output_type": "stream",
     "text": [
      "[ 5 10 15 20 25 30 35 40 45 50]\n",
      "[205 210 215 220 225 230 235 240 245 250]\n",
      "[455 460 465 470 475 480 485 490 495 500]\n"
     ]
    }
   ],
   "source": [
    "print(b[0])      # First row -> [5 10 15 ... 50]\n",
    "print(b[4])      # Fifth row -> [205 210 ... 250]\n",
    "print(b[-1])     # Last row -> [455 460 ... 500]"
   ]
  },
  {
   "cell_type": "markdown",
   "id": "7a981f38",
   "metadata": {},
   "source": [
    "- Accessing Columns"
   ]
  },
  {
   "cell_type": "code",
   "execution_count": 7,
   "id": "0ab433c3",
   "metadata": {},
   "outputs": [
    {
     "name": "stdout",
     "output_type": "stream",
     "text": [
      "[  5  55 105 155 205 255 305 355 405 455]\n",
      "[ 25  75 125 175 225 275 325 375 425 475]\n",
      "[ 50 100 150 200 250 300 350 400 450 500]\n"
     ]
    }
   ],
   "source": [
    "print(b[:, 0])   # First column -> [5 55 105 ... 455]\n",
    "print(b[:, 4])   # Fifth column -> [25 75 125 ... 475]\n",
    "print(b[:, -1])  # Last column -> [50 100 150 ... 500]"
   ]
  },
  {
   "cell_type": "markdown",
   "id": "c5052c23",
   "metadata": {},
   "source": [
    "- Slicing Submatrices\n",
    "\n",
    "**Syntax:** `[row_start:row_end, col_start:col_end]`"
   ]
  },
  {
   "cell_type": "code",
   "execution_count": 8,
   "id": "68bf06c7",
   "metadata": {},
   "outputs": [
    {
     "name": "stdout",
     "output_type": "stream",
     "text": [
      "[[  5  10  15]\n",
      " [ 55  60  65]\n",
      " [105 110 115]]\n"
     ]
    }
   ],
   "source": [
    "print(b[0:3, 0:3])"
   ]
  },
  {
   "cell_type": "code",
   "execution_count": 9,
   "id": "0a909b10",
   "metadata": {},
   "outputs": [
    {
     "data": {
      "text/plain": [
       "array([[  5,  10,  15,  20,  25,  30,  35,  40,  45,  50],\n",
       "       [ 55,  60,  65,  70,  75,  80,  85,  90,  95, 100],\n",
       "       [105, 110, 115, 120, 125, 130, 135, 140, 145, 150],\n",
       "       [155, 160, 165, 170, 175, 180, 185, 190, 195, 200],\n",
       "       [205, 210, 215, 220, 225, 230, 235, 240, 245, 250],\n",
       "       [255, 260, 265, 270, 275, 280, 285, 290, 295, 300],\n",
       "       [305, 310, 315, 320, 325, 330, 335, 340, 345, 350],\n",
       "       [355, 360, 365, 370, 375, 380, 385, 390, 395, 400],\n",
       "       [405, 410, 415, 420, 425, 430, 435, 440, 445, 450],\n",
       "       [455, 460, 465, 470, 475, 480, 485, 490, 495, 500]])"
      ]
     },
     "execution_count": 9,
     "metadata": {},
     "output_type": "execute_result"
    }
   ],
   "source": [
    "b"
   ]
  },
  {
   "cell_type": "code",
   "execution_count": 10,
   "id": "dd9c82f1",
   "metadata": {},
   "outputs": [
    {
     "name": "stdout",
     "output_type": "stream",
     "text": [
      "[[160 165 170]\n",
      " [210 215 220]\n",
      " [260 265 270]\n",
      " [310 315 320]\n",
      " [360 365 370]]\n"
     ]
    }
   ],
   "source": [
    "print(b[3:8, 1:4])"
   ]
  },
  {
   "cell_type": "code",
   "execution_count": 11,
   "id": "6befc0aa",
   "metadata": {},
   "outputs": [
    {
     "data": {
      "text/plain": [
       "array([[75]])"
      ]
     },
     "execution_count": 11,
     "metadata": {},
     "output_type": "execute_result"
    }
   ],
   "source": [
    "# slicing the matrix\n",
    "b[1:2, 4:5]"
   ]
  },
  {
   "cell_type": "markdown",
   "id": "95a1a110",
   "metadata": {},
   "source": [
    "- Step Slicing\n",
    "\n",
    "We can also use steps: `[start:end:step]`."
   ]
  },
  {
   "cell_type": "code",
   "execution_count": 12,
   "id": "fd7741c8",
   "metadata": {},
   "outputs": [
    {
     "data": {
      "text/plain": [
       "array([[  5,  15,  25,  35,  45],\n",
       "       [105, 115, 125, 135, 145],\n",
       "       [205, 215, 225, 235, 245],\n",
       "       [305, 315, 325, 335, 345],\n",
       "       [405, 415, 425, 435, 445]])"
      ]
     },
     "execution_count": 12,
     "metadata": {},
     "output_type": "execute_result"
    }
   ],
   "source": [
    "# Slicing every 2nd row and column\n",
    "c = b[::2, ::2]\n",
    "c"
   ]
  },
  {
   "cell_type": "markdown",
   "id": "d44e87c0",
   "metadata": {},
   "source": [
    "---"
   ]
  },
  {
   "cell_type": "markdown",
   "id": "e0b25bd4",
   "metadata": {},
   "source": [
    "## max(), min(), sum()\n",
    "\n",
    "We can use the `max()`, `min()`, and `sum()` functions to find the maximum, minimum, and sum of all elements in a NumPy array.\n",
    "\n"
   ]
  },
  {
   "cell_type": "code",
   "execution_count": 13,
   "id": "accb6e29",
   "metadata": {},
   "outputs": [
    {
     "data": {
      "text/plain": [
       "array([[  5,  10,  15,  20,  25,  30,  35,  40,  45,  50],\n",
       "       [ 55,  60,  65,  70,  75,  80,  85,  90,  95, 100],\n",
       "       [105, 110, 115, 120, 125, 130, 135, 140, 145, 150],\n",
       "       [155, 160, 165, 170, 175, 180, 185, 190, 195, 200],\n",
       "       [205, 210, 215, 220, 225, 230, 235, 240, 245, 250],\n",
       "       [255, 260, 265, 270, 275, 280, 285, 290, 295, 300],\n",
       "       [305, 310, 315, 320, 325, 330, 335, 340, 345, 350],\n",
       "       [355, 360, 365, 370, 375, 380, 385, 390, 395, 400],\n",
       "       [405, 410, 415, 420, 425, 430, 435, 440, 445, 450],\n",
       "       [455, 460, 465, 470, 475, 480, 485, 490, 495, 500]])"
      ]
     },
     "execution_count": 13,
     "metadata": {},
     "output_type": "execute_result"
    }
   ],
   "source": [
    "b"
   ]
  },
  {
   "cell_type": "markdown",
   "id": "0a82ce2a",
   "metadata": {},
   "source": [
    "### Using `min()`"
   ]
  },
  {
   "cell_type": "code",
   "execution_count": 14,
   "id": "14d7a401",
   "metadata": {},
   "outputs": [
    {
     "data": {
      "text/plain": [
       "np.int64(5)"
      ]
     },
     "execution_count": 14,
     "metadata": {},
     "output_type": "execute_result"
    }
   ],
   "source": [
    "# minimum value in 'b' array\n",
    "b.min()"
   ]
  },
  {
   "cell_type": "code",
   "execution_count": null,
   "id": "41a4d77f",
   "metadata": {},
   "outputs": [
    {
     "data": {
      "text/plain": [
       "array([  5,  55, 105, 155, 205, 255, 305, 355, 405, 455])"
      ]
     },
     "execution_count": 20,
     "metadata": {},
     "output_type": "execute_result"
    }
   ],
   "source": [
    "# minimum value in each row column\n",
    "b.min(axis=1)"
   ]
  },
  {
   "cell_type": "code",
   "execution_count": 21,
   "id": "8a31ce6b",
   "metadata": {},
   "outputs": [
    {
     "data": {
      "text/plain": [
       "array([ 5, 10, 15, 20, 25, 30, 35, 40, 45, 50])"
      ]
     },
     "execution_count": 21,
     "metadata": {},
     "output_type": "execute_result"
    }
   ],
   "source": [
    "# minimum value in each column\n",
    "b.min(axis=0)"
   ]
  },
  {
   "cell_type": "markdown",
   "id": "d4d4fc4a",
   "metadata": {},
   "source": [
    "### Using `max()`"
   ]
  },
  {
   "cell_type": "code",
   "execution_count": null,
   "id": "4a4eef72",
   "metadata": {},
   "outputs": [
    {
     "data": {
      "text/plain": [
       "np.int64(500)"
      ]
     },
     "execution_count": 15,
     "metadata": {},
     "output_type": "execute_result"
    }
   ],
   "source": [
    "# maximum value in 'b' array\n",
    "b.max()"
   ]
  },
  {
   "cell_type": "code",
   "execution_count": 24,
   "id": "e17771b6",
   "metadata": {},
   "outputs": [
    {
     "data": {
      "text/plain": [
       "array([ 50, 100, 150, 200, 250, 300, 350, 400, 450, 500])"
      ]
     },
     "execution_count": 24,
     "metadata": {},
     "output_type": "execute_result"
    }
   ],
   "source": [
    "# maximum value in each row\n",
    "b.max(axis=1)"
   ]
  },
  {
   "cell_type": "code",
   "execution_count": 44,
   "id": "4c24e7ed",
   "metadata": {},
   "outputs": [
    {
     "data": {
      "text/plain": [
       "array([455, 460, 465, 470, 475, 480, 485, 490, 495, 500])"
      ]
     },
     "execution_count": 44,
     "metadata": {},
     "output_type": "execute_result"
    }
   ],
   "source": [
    "# maximum value in each column\n",
    "b.max(axis=0)"
   ]
  },
  {
   "cell_type": "markdown",
   "id": "a6d61ffa",
   "metadata": {},
   "source": [
    "### Using `sum()`"
   ]
  },
  {
   "cell_type": "code",
   "execution_count": 16,
   "id": "0a3bec30",
   "metadata": {},
   "outputs": [
    {
     "data": {
      "text/plain": [
       "np.int64(25250)"
      ]
     },
     "execution_count": 16,
     "metadata": {},
     "output_type": "execute_result"
    }
   ],
   "source": [
    "# total sum of values in 'b' array\n",
    "b.sum()"
   ]
  },
  {
   "cell_type": "code",
   "execution_count": null,
   "id": "a9e21828",
   "metadata": {},
   "outputs": [
    {
     "data": {
      "text/plain": [
       "array([ 275,  775, 1275, 1775, 2275, 2775, 3275, 3775, 4275, 4775])"
      ]
     },
     "execution_count": 45,
     "metadata": {},
     "output_type": "execute_result"
    }
   ],
   "source": [
    "# sum of all values by row\n",
    "b.sum(axis=1)"
   ]
  },
  {
   "cell_type": "code",
   "execution_count": null,
   "id": "a799ce24",
   "metadata": {},
   "outputs": [
    {
     "data": {
      "text/plain": [
       "array([2300, 2350, 2400, 2450, 2500, 2550, 2600, 2650, 2700, 2750])"
      ]
     },
     "execution_count": 46,
     "metadata": {},
     "output_type": "execute_result"
    }
   ],
   "source": [
    "# sum of all values by column\n",
    "b.sum(axis=0)"
   ]
  },
  {
   "cell_type": "markdown",
   "id": "7c09515f",
   "metadata": {},
   "source": [
    "---"
   ]
  },
  {
   "cell_type": "markdown",
   "id": "1957a3d9",
   "metadata": {},
   "source": [
    "## Important Operations on Matrices"
   ]
  },
  {
   "cell_type": "code",
   "execution_count": 68,
   "id": "e7685e8b",
   "metadata": {},
   "outputs": [],
   "source": [
    "# creating matrices\n",
    "A = np.arange(2, 21, 2).reshape(5,2)\n",
    "B = np.arange(1, 21, 2).reshape(5,2)"
   ]
  },
  {
   "cell_type": "code",
   "execution_count": 69,
   "id": "40fcb828",
   "metadata": {},
   "outputs": [
    {
     "data": {
      "text/plain": [
       "array([[ 2,  4],\n",
       "       [ 6,  8],\n",
       "       [10, 12],\n",
       "       [14, 16],\n",
       "       [18, 20]])"
      ]
     },
     "execution_count": 69,
     "metadata": {},
     "output_type": "execute_result"
    }
   ],
   "source": [
    "A"
   ]
  },
  {
   "cell_type": "code",
   "execution_count": 70,
   "id": "cf6dadf4",
   "metadata": {},
   "outputs": [
    {
     "data": {
      "text/plain": [
       "array([[ 1,  3],\n",
       "       [ 5,  7],\n",
       "       [ 9, 11],\n",
       "       [13, 15],\n",
       "       [17, 19]])"
      ]
     },
     "execution_count": 70,
     "metadata": {},
     "output_type": "execute_result"
    }
   ],
   "source": [
    "B"
   ]
  },
  {
   "cell_type": "markdown",
   "id": "1af6c6b5",
   "metadata": {},
   "source": [
    "- Matrix Addition\n",
    "\n",
    "Add corresponding elements:"
   ]
  },
  {
   "cell_type": "code",
   "execution_count": 72,
   "id": "92ea4bb2",
   "metadata": {},
   "outputs": [
    {
     "data": {
      "text/plain": [
       "array([[ 3,  7],\n",
       "       [11, 15],\n",
       "       [19, 23],\n",
       "       [27, 31],\n",
       "       [35, 39]])"
      ]
     },
     "execution_count": 72,
     "metadata": {},
     "output_type": "execute_result"
    }
   ],
   "source": [
    "C = A + B\n",
    "C"
   ]
  },
  {
   "cell_type": "markdown",
   "id": "002dddb0",
   "metadata": {},
   "source": [
    "- Matrix Subtraction\n",
    "\n",
    "Subtract corresponding elements:"
   ]
  },
  {
   "cell_type": "code",
   "execution_count": 73,
   "id": "c9b78144",
   "metadata": {},
   "outputs": [
    {
     "data": {
      "text/plain": [
       "array([[1, 1],\n",
       "       [1, 1],\n",
       "       [1, 1],\n",
       "       [1, 1],\n",
       "       [1, 1]])"
      ]
     },
     "execution_count": 73,
     "metadata": {},
     "output_type": "execute_result"
    }
   ],
   "source": [
    "C = A - B\n",
    "C"
   ]
  },
  {
   "cell_type": "markdown",
   "id": "a36ec2b8",
   "metadata": {},
   "source": [
    "- Element-wise Multiplication\n",
    "\n",
    "Multiply corresponding elements:"
   ]
  },
  {
   "cell_type": "code",
   "execution_count": 75,
   "id": "8a76afa0",
   "metadata": {},
   "outputs": [
    {
     "data": {
      "text/plain": [
       "array([[  2,  12],\n",
       "       [ 30,  56],\n",
       "       [ 90, 132],\n",
       "       [182, 240],\n",
       "       [306, 380]])"
      ]
     },
     "execution_count": 75,
     "metadata": {},
     "output_type": "execute_result"
    }
   ],
   "source": [
    "C = A * B\n",
    "C"
   ]
  },
  {
   "cell_type": "markdown",
   "id": "cdf1008f",
   "metadata": {},
   "source": [
    "- Scalar Multiplication / Division\n",
    "\n",
    "Multiply or divide the whole matrix by a number:"
   ]
  },
  {
   "cell_type": "code",
   "execution_count": 79,
   "id": "1ce9b525",
   "metadata": {},
   "outputs": [
    {
     "name": "stdout",
     "output_type": "stream",
     "text": [
      "[[ 6 12]\n",
      " [18 24]\n",
      " [30 36]\n",
      " [42 48]\n",
      " [54 60]]\n",
      "[[1.5        0.75      ]\n",
      " [0.5        0.375     ]\n",
      " [0.3        0.25      ]\n",
      " [0.21428571 0.1875    ]\n",
      " [0.16666667 0.15      ]]\n"
     ]
    }
   ],
   "source": [
    "# multiplication\n",
    "C = 3 * A\n",
    "print(C)\n",
    " \n",
    "# Division\n",
    "D = 3 / A\n",
    "print(D)"
   ]
  },
  {
   "cell_type": "markdown",
   "id": "8fd2ed59",
   "metadata": {},
   "source": [
    "- Element-wise Division\n",
    "\n",
    "Divide elements one by one:"
   ]
  },
  {
   "cell_type": "code",
   "execution_count": 82,
   "id": "eadf2502",
   "metadata": {},
   "outputs": [
    {
     "data": {
      "text/plain": [
       "array([[2.        , 1.33333333],\n",
       "       [1.2       , 1.14285714],\n",
       "       [1.11111111, 1.09090909],\n",
       "       [1.07692308, 1.06666667],\n",
       "       [1.05882353, 1.05263158]])"
      ]
     },
     "execution_count": 82,
     "metadata": {},
     "output_type": "execute_result"
    }
   ],
   "source": [
    "C = A / B\n",
    "C"
   ]
  },
  {
   "cell_type": "markdown",
   "id": "cc639e9c",
   "metadata": {},
   "source": [
    "- Stack arrays vertically or horizontally:"
   ]
  },
  {
   "cell_type": "code",
   "execution_count": 85,
   "id": "ce9b1c2b",
   "metadata": {},
   "outputs": [
    {
     "data": {
      "text/plain": [
       "array([[ 0,  5, 10, 15, 20],\n",
       "       [25, 30, 35, 40, 45]])"
      ]
     },
     "execution_count": 85,
     "metadata": {},
     "output_type": "execute_result"
    }
   ],
   "source": [
    "arr = np.arange(0, 46, 5).reshape(2, 5) # create 2 x 5 matrix\n",
    "\n",
    "arr"
   ]
  },
  {
   "cell_type": "code",
   "execution_count": null,
   "id": "3de6e113",
   "metadata": {},
   "outputs": [
    {
     "data": {
      "text/plain": [
       "array([[ 0,  5, 10, 15, 20],\n",
       "       [25, 30, 35, 40, 45],\n",
       "       [50, 55, 60, 65, 70]])"
      ]
     },
     "execution_count": 89,
     "metadata": {},
     "output_type": "execute_result"
    }
   ],
   "source": [
    "# stack array vertically \n",
    "np.vstack((arr, np.array([50, 55, 60, 65, 70])))"
   ]
  },
  {
   "cell_type": "code",
   "execution_count": 100,
   "id": "72250d4a",
   "metadata": {},
   "outputs": [
    {
     "data": {
      "text/plain": [
       "array([[ 0,  5, 10, 15, 20, 50],\n",
       "       [25, 30, 35, 40, 45, 55]])"
      ]
     },
     "execution_count": 100,
     "metadata": {},
     "output_type": "execute_result"
    }
   ],
   "source": [
    "# stack array horizontally\n",
    "\n",
    "arr2 = np.array([[50], [55]])\n",
    "\n",
    "np.hstack((arr, arr2))"
   ]
  },
  {
   "cell_type": "markdown",
   "id": "17042318",
   "metadata": {},
   "source": [
    "- Reverse an array"
   ]
  },
  {
   "cell_type": "code",
   "execution_count": 101,
   "id": "cfcc2444",
   "metadata": {},
   "outputs": [
    {
     "data": {
      "text/plain": [
       "array([[ 0,  5, 10, 15, 20],\n",
       "       [25, 30, 35, 40, 45]])"
      ]
     },
     "execution_count": 101,
     "metadata": {},
     "output_type": "execute_result"
    }
   ],
   "source": [
    "arr"
   ]
  },
  {
   "cell_type": "code",
   "execution_count": 105,
   "id": "ce2f6c9e",
   "metadata": {},
   "outputs": [
    {
     "data": {
      "text/plain": [
       "array([[45, 40, 35, 30, 25],\n",
       "       [20, 15, 10,  5,  0]])"
      ]
     },
     "execution_count": 105,
     "metadata": {},
     "output_type": "execute_result"
    }
   ],
   "source": [
    "# revering an array\n",
    "reversed_arr = np.flip(arr)\n",
    "reversed_arr"
   ]
  },
  {
   "cell_type": "markdown",
   "id": "1de0490d",
   "metadata": {},
   "source": [
    "- Transposing a matrix\n",
    "\n",
    "It’s common to need to transpose your matrices. NumPy arrays have the property `T` that allows you to transpose a matrix."
   ]
  },
  {
   "cell_type": "code",
   "execution_count": 113,
   "id": "bccbc3d4",
   "metadata": {},
   "outputs": [
    {
     "data": {
      "text/plain": [
       "array([[ 10,  20],\n",
       "       [ 30,  40],\n",
       "       [ 50,  60],\n",
       "       [ 70,  80],\n",
       "       [ 90, 100]])"
      ]
     },
     "execution_count": 113,
     "metadata": {},
     "output_type": "execute_result"
    }
   ],
   "source": [
    "arr = np.arange(10, 101, 10).reshape(5, 2)\n",
    "arr"
   ]
  },
  {
   "cell_type": "code",
   "execution_count": 114,
   "id": "f5459f29",
   "metadata": {},
   "outputs": [
    {
     "data": {
      "text/plain": [
       "array([[ 10,  30,  50,  70,  90],\n",
       "       [ 20,  40,  60,  80, 100]])"
      ]
     },
     "execution_count": 114,
     "metadata": {},
     "output_type": "execute_result"
    }
   ],
   "source": [
    "# taking transpose \n",
    "arr_T = arr.T\n",
    "arr_T"
   ]
  },
  {
   "cell_type": "markdown",
   "id": "cbc3600f",
   "metadata": {},
   "source": [
    "---"
   ]
  },
  {
   "cell_type": "markdown",
   "id": "21cfb882",
   "metadata": {},
   "source": [
    "Let's connect on Linkedin:- [linkedin.com/in/iamahsanalirajpoot](https://www.linkedin.com/in/iamahsanalirajpoot)\n"
   ]
  }
 ],
 "metadata": {
  "kernelspec": {
   "display_name": "learning",
   "language": "python",
   "name": "python3"
  },
  "language_info": {
   "codemirror_mode": {
    "name": "ipython",
    "version": 3
   },
   "file_extension": ".py",
   "mimetype": "text/x-python",
   "name": "python",
   "nbconvert_exporter": "python",
   "pygments_lexer": "ipython3",
   "version": "3.11.13"
  }
 },
 "nbformat": 4,
 "nbformat_minor": 5
}
